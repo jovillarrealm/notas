{
 "cells": [
  {
   "cell_type": "code",
   "execution_count": null,
   "metadata": {
    "vscode": {
     "languageId": "plaintext"
    }
   },
   "outputs": [],
   "source": [
    "# Built-in modules\n",
    "import math\n",
    "import warnings\n",
    "import matplotlib\n",
    "warnings.filterwarnings(\"ignore\")\n",
    "\n",
    "# Imports from Qiskit\n",
    "from qiskit import QuantumCircuit\n",
    "from qiskit.circuit.library import GroverOperator, MCMT, ZGate\n",
    "from qiskit.visualization import plot_distribution\n",
    "\n",
    "# Imports from Qiskit Runtime\n",
    "from qiskit_ibm_runtime import QiskitRuntimeService\n",
    "from qiskit_ibm_runtime import SamplerV2 as Sampler\n",
    "QUBITS = 8\n",
    "\n",
    "c = QuantumCircuit(QUBITS)\n",
    "_ = list(map(c.h, range(QUBITS)))\n",
    "# Draw the circuit\n",
    "c.draw(\"mpl\")"
   ]
  }
 ],
 "metadata": {
  "kernelspec": {
   "display_name": ".venv",
   "language": "python",
   "name": "python3"
  },
  "language_info": {
   "codemirror_mode": {
    "name": "ipython",
    "version": 3
   },
   "file_extension": ".py",
   "mimetype": "text/x-python",
   "name": "python",
   "nbconvert_exporter": "python",
   "pygments_lexer": "ipython3",
   "version": "3.12.2"
  }
 },
 "nbformat": 4,
 "nbformat_minor": 2
}
