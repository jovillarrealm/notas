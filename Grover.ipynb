{
 "cells": [
  {
   "cell_type": "code",
   "execution_count": 74,
   "metadata": {},
   "outputs": [
    {
     "name": "stdout",
     "output_type": "stream",
     "text": [
      "Note: you may need to restart the kernel to use updated packages.\n"
     ]
    },
    {
     "name": "stderr",
     "output_type": "stream",
     "text": [
      "c:\\Users\\Lenovo\\OneDrive - Universidad EAFIT\\Documentos\\Obsidian\\Obsidian\\2024-1\\Cuántica\\ps\\notas\\.venv\\Scripts\\python.exe: No module named pip\n"
     ]
    }
   ],
   "source": [
    "%pip install numpy"
   ]
  },
  {
   "cell_type": "code",
   "execution_count": 75,
   "metadata": {},
   "outputs": [],
   "source": [
    "import numpy as np\n",
    "from numpy import ndarray\n",
    "from numpy import sqrt, log2,ceil\n",
    "from typing import Callable"
   ]
  },
  {
   "cell_type": "code",
   "execution_count": 76,
   "metadata": {},
   "outputs": [],
   "source": [
    "N = 5\n",
    "\n",
    "\n",
    "def f(index):\n",
    "    return index == 4 or index == 2\n"
   ]
  },
  {
   "cell_type": "code",
   "execution_count": 77,
   "metadata": {},
   "outputs": [],
   "source": [
    "def H_otimes_n(n) -> ndarray:\n",
    "    hadamard: ndarray = np.sqrt(0.5) * np.array([[1, 1], [1, -1]])\n",
    "    result = hadamard\n",
    "    n -= 1  # primera iteración siempre inicia en hadamard, pero no cuenta como multiplicación\n",
    "\n",
    "    for _ in range(n):\n",
    "        result = np.kron(result, hadamard)\n",
    "    # Kronecker products crea submatrices, esto reshapea a matriz\n",
    "    op = result.reshape(-1, result.shape[-1])\n",
    "    return op"
   ]
  },
  {
   "cell_type": "code",
   "execution_count": 78,
   "metadata": {},
   "outputs": [],
   "source": [
    "def phase_inversion(N, f:Callable)-> ndarray:\n",
    "    data = list(-1 if f(x) else 1 for x in range(N))\n",
    "    U_f = np.diag(data)\n",
    "    return U_f"
   ]
  },
  {
   "cell_type": "code",
   "execution_count": 79,
   "metadata": {},
   "outputs": [],
   "source": [
    "def proyection_about_mean(N):\n",
    "    # Projector |0^n><0^n|\n",
    "    projector = np.zeros((N, N))\n",
    "    projector[0, 0] = 1\n",
    "    # Identity matrix I\n",
    "    identity = np.eye(N)\n",
    "\n",
    "    # Grover diffusion operator: U_0^n = 2|0^n><0^n| - I\n",
    "    reflection_about_mean = 2 * projector - identity\n",
    "    return reflection_about_mean\n"
   ]
  },
  {
   "cell_type": "code",
   "execution_count": 80,
   "metadata": {},
   "outputs": [],
   "source": [
    "def op_deets(op: ndarray, label: str):\n",
    "    print()\n",
    "    print(label)\n",
    "    print(op.shape)\n",
    "    print(op)\n",
    "    print()\n",
    "    print()\n",
    "\n",
    "def is_op_unitary(A:ndarray, N: int):\n",
    "    case1 = A.conj().T @ A\n",
    "    case2 = A @ A.conj().T\n",
    "    Identity = np.eye(N)\n",
    "    assert np.allclose(case1, case2) \n",
    "    assert np.allclose(case2, Identity)\n",
    "\n",
    "def is_v_unit(v:ndarray, m):\n",
    "    v_2 = (v.T @ v)[0][0]\n",
    "    tol = 1e-10\n",
    "    is_approximate = tol > abs(v_2 - 1)\n",
    "    if m:\n",
    "        print(\"v_2 inner product\")\n",
    "        print(v_2)\n",
    "    if not is_approximate:\n",
    "        print(\"hay que dividir por\", v_2 )\n",
    "    assert is_approximate\n",
    "\n",
    "def test_ops(n, N, f, psi, m:bool = False):\n",
    "    if m:\n",
    "        print(f\"Qubits n: {n}, Estados totales N : {N}\")\n",
    "    H = H_otimes_n(n)\n",
    "    if m:\n",
    "        label = \"Hadamard_otimes_n:\"\n",
    "        op_deets(H, label)\n",
    "    is_op_unitary(H, N)\n",
    "    # Hadamard además de unitaria, es Hermitian?\n",
    "    assert np.allclose(H, H.conj().T)\n",
    "    # P_I es una función oráculo\n",
    "    P_I = phase_inversion(N, f)\n",
    "    if m:\n",
    "        label = \"Phase inversion:\"\n",
    "        op_deets(P_I, label)\n",
    "    is_op_unitary(P_I, N)\n",
    "\n",
    "    is_v_unit(psi,m)\n",
    "    if m:\n",
    "        print(\"psi es unitario\")\n",
    "        print(psi)\n",
    "\n",
    "    U_0n = proyection_about_mean(N)\n",
    "    if m:\n",
    "        label = \"Proyection about mean:\"\n",
    "        op_deets(U_0n, label)\n",
    "        is_op_unitary(U_0n, N)\n",
    "\n",
    "  \n",
    "\n"
   ]
  },
  {
   "cell_type": "code",
   "execution_count": 83,
   "metadata": {},
   "outputs": [
    {
     "data": {
      "text/plain": [
       "array([[-0.35355339],\n",
       "       [-0.35355339],\n",
       "       [ 0.35355339],\n",
       "       [-0.35355339],\n",
       "       [ 0.35355339],\n",
       "       [-0.35355339],\n",
       "       [-0.35355339],\n",
       "       [-0.35355339]])"
      ]
     },
     "execution_count": 83,
     "metadata": {},
     "output_type": "execute_result"
    }
   ],
   "source": [
    "def grover(NumberStates, f: Callable):\n",
    "    n = int(ceil(log2(NumberStates)))\n",
    "    N = int(np.power(2, n))\n",
    "    H = H_otimes_n(n)\n",
    "    ket_h = np.zeros((N, 1))\n",
    "    ket_h[0][0] = 1\n",
    "    ket_h = H @ ket_h\n",
    "    test_ops(n, N, f, ket_h)\n",
    "    reflect = phase_inversion(N, f)\n",
    "    mean_reflection = proyection_about_mean(N)\n",
    "\n",
    "    for i in range(int(sqrt(N))):\n",
    "        ket_h = reflect @ ket_h\n",
    "\n",
    "        ket_h = H @ ket_h\n",
    "\n",
    "        ket_h = mean_reflection @ ket_h\n",
    "\n",
    "        ket_h = H @ ket_h\n",
    "\n",
    "    return ket_h\n",
    "\n",
    "\n",
    "grover(N, f)\n"
   ]
  },
  {
   "cell_type": "code",
   "execution_count": 82,
   "metadata": {},
   "outputs": [
    {
     "data": {
      "text/plain": [
       "[2, 4]"
      ]
     },
     "execution_count": 82,
     "metadata": {},
     "output_type": "execute_result"
    }
   ],
   "source": [
    "def result(N,f):\n",
    "    psi = grover(N, f)\n",
    "    bitmask = psi > 0\n",
    "    # Filter the original array using boolean indexing and get the index as well\n",
    "    found = list(psi[bitmask]), np.nonzero(bitmask)[0].tolist()\n",
    "    return found[1]\n",
    "result(N,f)"
   ]
  }
 ],
 "metadata": {
  "kernelspec": {
   "display_name": ".venv",
   "language": "python",
   "name": "python3"
  },
  "language_info": {
   "codemirror_mode": {
    "name": "ipython",
    "version": 3
   },
   "file_extension": ".py",
   "mimetype": "text/x-python",
   "name": "python",
   "nbconvert_exporter": "python",
   "pygments_lexer": "ipython3",
   "version": "3.12.2"
  }
 },
 "nbformat": 4,
 "nbformat_minor": 2
}
