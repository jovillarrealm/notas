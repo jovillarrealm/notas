{
  "cells": [
    {
      "cell_type": "code",
      "execution_count": 57,
      "metadata": {
        "colab": {
          "base_uri": "https://localhost:8080/"
        },
        "id": "UuYAXRUul_M_",
        "outputId": "b4bbd577-4464-47bf-902b-47e2a3d64847"
      },
      "outputs": [
        {
          "name": "stdout",
          "output_type": "stream",
          "text": [
            "Requirement already satisfied: numpy in /usr/local/lib/python3.10/dist-packages (1.25.2)\n"
          ]
        }
      ],
      "source": [
        "%pip install numpy"
      ]
    },
    {
      "cell_type": "code",
      "execution_count": 58,
      "metadata": {
        "id": "ITRRJbsFmAsi"
      },
      "outputs": [],
      "source": [
        "from functools import lru_cache\n",
        "from math import log, sqrt, ceil\n",
        "from typing import Callable\n",
        "import numpy as np\n",
        "from numpy import ndarray"
      ]
    },
    {
      "cell_type": "code",
      "execution_count": 59,
      "metadata": {
        "id": "csQHvrO2nK3D"
      },
      "outputs": [],
      "source": [
        "def hadamard() -> ndarray:\n",
        "  h = np.sqrt(0.5) * np.array([[1, 1], [1, -1]])\n",
        "  return h"
      ]
    },
    {
      "cell_type": "code",
      "execution_count": 60,
      "metadata": {
        "id": "W7tygmNBmD9u"
      },
      "outputs": [],
      "source": [
        "\n",
        "@lru_cache(maxsize=1)\n",
        "def H_otimes_n(n: int) -> ndarray:\n",
        "    r\"\"\"\n",
        "    Retorna :math:`H^{\\otimes n}`\n",
        "\n",
        "    Args:\n",
        "        n (int): numero de qubits\n",
        "    \"\"\"\n",
        "\n",
        "    hadamard: ndarray = np.sqrt(0.5) * np.array([[1, 1], [1, -1]])\n",
        "    result = hadamard\n",
        "    n -= 1  # primera iteración siempre inicia en hadamard, pero no cuenta como multiplicación\n",
        "\n",
        "    for _ in range(n):\n",
        "        result = np.kron(result, hadamard)\n",
        "    # Kronecker products crea submatrices, esto reshapea a matriz\n",
        "    op = result.reshape(-1, result.shape[-1])\n",
        "    return op\n"
      ]
    },
    {
      "cell_type": "code",
      "execution_count": 61,
      "metadata": {
        "id": "TxY4pyo7mSzO"
      },
      "outputs": [],
      "source": [
        "@lru_cache(maxsize=1)\n",
        "def proyection_about_mean(N: int):\n",
        "    op = np.ones(N) * (2 / N) - np.eye(N)\n",
        "    return op\n"
      ]
    },
    {
      "cell_type": "code",
      "execution_count": 62,
      "metadata": {
        "id": "BfU3CVscmlwT"
      },
      "outputs": [],
      "source": [
        "def op_deets(op: ndarray, label: str):\n",
        "    print()\n",
        "    print(label)\n",
        "    print(op.shape)\n",
        "    # print(\"norm:\", np.linalg.norm(op, ord=np.inf))\n",
        "    print(op)\n",
        "    print()\n",
        "    print()"
      ]
    },
    {
      "cell_type": "code",
      "execution_count": 63,
      "metadata": {
        "id": "DMXOSs9_mWit"
      },
      "outputs": [],
      "source": [
        "@lru_cache(maxsize=1)\n",
        "def phase_inversion(N, f: Callable) -> ndarray:\n",
        "    \"\"\"\n",
        "    1s en la diagonal si f(x)=0\n",
        "    -1 en la diagonal si f(x)=1\n",
        "\n",
        "    Esta matriz debe ser más grande.\n",
        "    si hay 3 qubits en el sistema,\n",
        "    U_f va a trabajar con un qubit auxiliar extra de f(x)\n",
        "    Entonces si hay n qubits, la matriz de esta función es de\n",
        "    shape(2^{n+1},2^{n+1})?\n",
        "\n",
        "    Args:\n",
        "        N (int): El número de estados\n",
        "        f (Callable): _description_\n",
        "\n",
        "    Returns:\n",
        "        ndarray: _description_\n",
        "    \"\"\"\n",
        "    # Define data, row indices, and column indices for non-zero elements\n",
        "    data = list(-1 if f(x) else 1 for x in range(N))\n",
        "\n",
        "    # Create a sparse CSC matrix\n",
        "    # A_f = sp.csc_matrix((data, (row_indices, col_indices)), shape=(N,N))\n",
        "\n",
        "    A_f = np.diag(data)\n",
        "    op_deets(A_f, \"A_f\")\n",
        "    U_f = np.kron(A_f, np.eye(2))\n",
        "    # Kronecker products crea submatrices, esto reshapea a matriz\n",
        "    U_f: ndarray = U_f.reshape(-1, U_f.shape[-1])\n",
        "    return U_f\n"
      ]
    },
    {
      "cell_type": "code",
      "execution_count": 71,
      "metadata": {
        "id": "REp520EkmX4x"
      },
      "outputs": [],
      "source": [
        "@lru_cache(maxsize=1)\n",
        "def phase_inversion(N, f: Callable) -> ndarray:\n",
        "    \"\"\"\n",
        "    1s en la diagonal si f(x)=0\n",
        "    -1 en la diagonal si f(x)=1\n",
        "\n",
        "    Esta matriz debe ser más grande.\n",
        "    si hay 3 qubits en el sistema,\n",
        "    U_f va a trabajar con un qubit auxiliar extra de f(x)\n",
        "    Entonces si hay n qubits, la matriz de esta función es de\n",
        "    shape(2^{n+1},2^{n+1})?\n",
        "\n",
        "    Args:\n",
        "        N (int): El número de estados\n",
        "        f (Callable): _description_\n",
        "\n",
        "    Returns:\n",
        "        ndarray: _description_\n",
        "    \"\"\"\n",
        "    # Define data, row indices, and column indices for non-zero elements\n",
        "    data = list(-1 if f(x) else 1 for x in range(N))\n",
        "\n",
        "    # Create a sparse CSC matrix\n",
        "    # A_f = sp.csc_matrix((data, (row_indices, col_indices)), shape=(N,N))\n",
        "    # WHY CANT YOU BE NORMAL\n",
        "    A_f = np.diag(data)\n",
        "    #op_deets(A_f, \"A_f\")\n",
        "    U_f = np.kron(A_f, np.eye(2))\n",
        "    # Kronecker products crea submatrices, esto reshapea a matriz\n",
        "    U_f: ndarray = U_f.reshape(-1, U_f.shape[-1])\n",
        "    return U_f\n",
        "\n",
        "\n",
        "\n",
        "\n",
        "def dag(A: ndarray):\n",
        "    return np.conj(A.T)\n",
        "\n",
        "\n",
        "def are_approximate(A, B) -> bool:\n",
        "    \"\"\"Are two matrices approximately equal with a tolerance\n",
        "\n",
        "    Args:\n",
        "        A (ndarray)\n",
        "        B (ndarray):\n",
        "\n",
        "    Returns:\n",
        "        bool: true when the element-wise difference is lower than the tolerance threshold\n",
        "    \"\"\"\n",
        "    tol = 1e-11  # Tolerance threshold\n",
        "    # print(f\"{tol:.11f}\")\n",
        "    # Element-wise absolute difference\n",
        "    diff = np.abs(A - B)\n",
        "\n",
        "    # Check if all elements are within tolerance (boolean mask)\n",
        "    is_approx = np.all(diff <= tol)\n",
        "    if is_approx:\n",
        "        return True\n",
        "    return False\n",
        "\n",
        "\n",
        "def is_op_unitary(A, N):\n",
        "    case1 = dag(A) @ A\n",
        "    case2 = A @ dag(A)\n",
        "    assert are_approximate(case1, case2) and are_approximate(case2, np.eye(N))\n",
        "\n",
        "\n",
        "def is_v_unit(v:ndarray):\n",
        "    print(\"v_2 inner product\")\n",
        "    v_2 = (v.T @ v)[0][0]\n",
        "    tol = 1e-11\n",
        "    print(v_2)\n",
        "    is_approximate = tol > abs(v_2 - 1)\n",
        "    assert is_approximate\n",
        "\n",
        "\n",
        "def test_ops(n, N, f, psi):\n",
        "    print(f\"Qubits n: {n}, Estados totales N : {N}\")\n",
        "    H = H_otimes_n(n)\n",
        "    is_op_unitary(H, N)\n",
        "    # Hadamard además de unitaria, es Hermitian?\n",
        "    assert are_approximate(H, dag(H))\n",
        "    label = \"Hadamard\"\n",
        "    op_deets(H, label)\n",
        "    U_0n = proyection_about_mean(N)\n",
        "    is_op_unitary(U_0n, N)\n",
        "    label = \"Proyection about mean:\"\n",
        "    op_deets(U_0n, label)\n",
        "    # P_I es una función oráculo\n",
        "    P_I = phase_inversion(N, f)\n",
        "    is_op_unitary(P_I, N * 2)\n",
        "    label = \"Phase inversion:\"\n",
        "    op_deets(P_I, label)\n",
        "    # psi es un vector unitario\n",
        "    is_v_unit(psi)\n",
        "    print(\"psi es unitario\")\n"
      ]
    },
    {
      "cell_type": "code",
      "execution_count": 75,
      "metadata": {
        "id": "UeKMblNXmpoj"
      },
      "outputs": [],
      "source": [
        "def grover(N: int, f: Callable, v:bool = False):\n",
        "    \"\"\"Función donde se implementa Grover's Algorithm\n",
        "\n",
        "    Args:\n",
        "        N (int): numero de estados\n",
        "        f (Callable): función que toma estados y dice si son x* o no\n",
        "        v (bool): Imprime pasos (y tests) intermedios\n",
        "    \"\"\"\n",
        "    n = ceil(log(N, 2))  # Numero de qubits\n",
        "    N = 2**n  # CAMBIANDO EL NUMERO DE ESTADOS; FIGHT ME o FIXME\n",
        "    psi_0 = np.ones((N, 1)) * (1/sqrt(N))\n",
        "    # Hacer el auxiliar\n",
        "    auxiliary = np.resize(hadamard() @ np.ones((2, 1)) * (1/sqrt(N)), (N,1))\n",
        "    if v:\n",
        "      test_ops(n, 2**n, f, psi_0)\n",
        "      print(\"auxiliary:\")\n",
        "      print(auxiliary)\n",
        "\n",
        "      print(\"psi_0:\")\n",
        "      print(psi_0)\n",
        "\n",
        "    psi_i = H_otimes_n(n) @ psi_0  # inicialization\n",
        "\n",
        "    if v:\n",
        "      print(\"psi_1:\")\n",
        "      print(psi_i)\n",
        "\n",
        "    # sqrt(n) iteraciones\n",
        "    for _ in range(int(sqrt(N * np.pi / 4)) + 1):\n",
        "        # Phase Inversion\n",
        "\n",
        "        psi_c = np.vstack((psi_i, auxiliary))\n",
        "        psi_c = phase_inversion(N, f) @ psi_c\n",
        "        if v:\n",
        "          print(\"psi_i: post PI\")\n",
        "          print(psi_i)\n",
        "        # Splitting based on original size\n",
        "        psi_i = psi_c[:N, :]\n",
        "        auxiliary = psi_c[N:, :]\n",
        "        psi_i = np.resize(psi_i, (N, 1))\n",
        "        if v:\n",
        "          print(\"psi_i: post PI resize\")\n",
        "          print(psi_i)\n",
        "\n",
        "        # Proyection about mean\n",
        "        psi_i = H_otimes_n(n) @ psi_i\n",
        "        psi_i = proyection_about_mean(N) @ psi_i\n",
        "        psi_i = H_otimes_n(n) @ psi_i\n",
        "    if v:\n",
        "      print(\"psi_i:\")\n",
        "      print(psi_i)\n",
        "    return psi_i\n"
      ]
    },
    {
      "cell_type": "code",
      "execution_count": 76,
      "metadata": {
        "colab": {
          "base_uri": "https://localhost:8080/"
        },
        "id": "mkd5e4bAmqo_",
        "outputId": "bb0cc560-49a5-45a4-a8db-9d5afee18ae5"
      },
      "outputs": [
        {
          "data": {
            "text/plain": [
              "array([[1.],\n",
              "       [0.],\n",
              "       [0.],\n",
              "       [0.]])"
            ]
          },
          "execution_count": 76,
          "metadata": {},
          "output_type": "execute_result"
        }
      ],
      "source": [
        "N = 3\n",
        "\n",
        "\n",
        "def f(x: int) -> bool:\n",
        "    \"\"\"Función binaria de input a la función oráculo.\n",
        "    Se supone que si la conozco pues medio ya se donde está lo que busco.\n",
        "\n",
        "    A partir de esta función se genera la matriz U_f.\n",
        "\n",
        "    Debe cumplir: f:{0,1}^n -> {0,1} por lo que hay 2^(2^N)\n",
        "    versiones diferentes de f\n",
        "\n",
        "\n",
        "    Args:\n",
        "        x (int): estado del sistema cuantico que puede o no ser el buscado\n",
        "\n",
        "    Returns:\n",
        "        int: binario que dice si esto es el estado buscado o no\n",
        "    \"\"\"\n",
        "    return (x - 1) % 4 == 0\n",
        "\n",
        "\n",
        "grover(N, f, False)\n",
        "\n",
        "# TODO hacer phase inversion, como sparse matrix de ser posible\n",
        "# TODO hacer el qubit auxiliar\n",
        "# TODO hacer shots en esta vaina\n",
        "# TODO print con LaTex?\n"
      ]
    },
    {
      "cell_type": "code",
      "execution_count": 74,
      "metadata": {
        "id": "mJ5Pb6BOm9vc"
      },
      "outputs": [],
      "source": []
    }
  ],
  "metadata": {
    "colab": {
      "provenance": []
    },
    "kernelspec": {
      "display_name": "Python 3",
      "name": "python3"
    },
    "language_info": {
      "name": "python"
    }
  },
  "nbformat": 4,
  "nbformat_minor": 0
}
