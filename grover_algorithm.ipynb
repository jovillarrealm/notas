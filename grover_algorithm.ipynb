{
 "cells": [
  {
   "cell_type": "markdown",
   "metadata": {},
   "source": []
  },
  {
   "cell_type": "code",
   "execution_count": 2,
   "metadata": {},
   "outputs": [],
   "source": [
    "import numpy as np\n",
    "from numpy import ndarray\n",
    "from math import log, sqrt\n",
    "from typing import Callable\n",
    "from functools import lru_cache"
   ]
  },
  {
   "cell_type": "code",
   "execution_count": 9,
   "metadata": {},
   "outputs": [],
   "source": [
    "@lru_cache(maxsize=1)\n",
    "def H_otimes_n(n: int) -> ndarray:\n",
    "    r\"\"\"\n",
    "    Retorna :math:`H^{\\otimes n}`\n",
    "\n",
    "    Args:\n",
    "        n (int): numero de qubits\n",
    "    \"\"\"\n",
    "    hadamard = np.array([[1, 1], [1, -1]]) #* (1 / (2 ** (1 / 2)))\n",
    "    result = hadamard\n",
    "    n -= 1  # primera iteración siempre inicia en hadamard, pero no cuenta como multiplicación\n",
    "\n",
    "    for _ in range(n):\n",
    "        result = np.tensordot(result, hadamard, axes=0)\n",
    "    result = result.reshape(-1, result.shape[-1]) # Kronecker products crea submatrices, esto reshapes a matriz\n",
    "    return result\n"
   ]
  },
  {
   "cell_type": "code",
   "execution_count": 10,
   "metadata": {},
   "outputs": [],
   "source": [
    "def proyection_mean(n:int):\n",
    "    N = 2**n\n",
    "    op = np.ones(N)*(2/N)-np.eye(N)\n",
    "    print(op)\n",
    "    return op\n",
    "    "
   ]
  },
  {
   "cell_type": "code",
   "execution_count": 11,
   "metadata": {},
   "outputs": [],
   "source": [
    "def inversion_bout_mean(n:int) -> ndarray:\n",
    "    op = np.matmul(H_otimes_n(n),proyection_mean(n))\n",
    "    op = np.matmul(op,H_otimes_n(n))\n",
    "    return op\n",
    "    "
   ]
  },
  {
   "cell_type": "code",
   "execution_count": 12,
   "metadata": {},
   "outputs": [],
   "source": [
    "def phase_inversion(n, f:Callable) -> ndarray:\n",
    "    return np.eye(n)"
   ]
  },
  {
   "cell_type": "code",
   "execution_count": 20,
   "metadata": {},
   "outputs": [],
   "source": [
    "def grover(N: int, f: Callable):\n",
    "    \"\"\"Función donde se implementa Grover's Algorithm\n",
    "\n",
    "    Args:\n",
    "        N (int): numero de estados\n",
    "        f (Callable): funcion oráculo?\n",
    "    \"\"\"\n",
    "    n = int(log(N, 2)) + 1  # Numero de qubits\n",
    "    N = 2**n # Y QUÉ, HEWLETT PACKARDS\n",
    "    psi_0 = np.ones((N,N))  # quantum state??????????????????????\n",
    "    print(n,N,psi_0)\n",
    "    psi_i = H_otimes_n(n) * psi_0  # inicialization\n",
    "    print(psi_i)\n",
    "    # sqrt(n) iteraciones\n",
    "    for _ in range(int(sqrt(N))+1):\n",
    "        psi_i = phase_inversion(n,f) * psi_i\n",
    "        psi_i = inversion_bout_mean(n) * psi_i\n",
    "    \n"
   ]
  },
  {
   "cell_type": "code",
   "execution_count": 19,
   "metadata": {},
   "outputs": [
    {
     "name": "stdout",
     "output_type": "stream",
     "text": [
      "2 4 [[1. 1. 1. 1.]\n",
      " [1. 1. 1. 1.]\n",
      " [1. 1. 1. 1.]\n",
      " [1. 1. 1. 1.]]\n"
     ]
    },
    {
     "ename": "ValueError",
     "evalue": "operands could not be broadcast together with shapes (8,2) (4,4) ",
     "output_type": "error",
     "traceback": [
      "\u001b[1;31m---------------------------------------------------------------------------\u001b[0m",
      "\u001b[1;31mValueError\u001b[0m                                Traceback (most recent call last)",
      "Cell \u001b[1;32mIn[19], line 6\u001b[0m\n\u001b[0;32m      3\u001b[0m \u001b[38;5;28;01mdef\u001b[39;00m \u001b[38;5;21mf\u001b[39m(x):\n\u001b[0;32m      4\u001b[0m     \u001b[38;5;28;01mreturn\u001b[39;00m x \u001b[38;5;241m==\u001b[39m \u001b[38;5;241m2\u001b[39m\n\u001b[1;32m----> 6\u001b[0m \u001b[43mgrover\u001b[49m\u001b[43m(\u001b[49m\u001b[43mN\u001b[49m\u001b[43m,\u001b[49m\u001b[43m \u001b[49m\u001b[43mf\u001b[49m\u001b[43m)\u001b[49m\n",
      "Cell \u001b[1;32mIn[17], line 12\u001b[0m, in \u001b[0;36mgrover\u001b[1;34m(N, f)\u001b[0m\n\u001b[0;32m     10\u001b[0m psi_0 \u001b[38;5;241m=\u001b[39m np\u001b[38;5;241m.\u001b[39mones((N,N))  \u001b[38;5;66;03m# quantum state??????????????????????\u001b[39;00m\n\u001b[0;32m     11\u001b[0m \u001b[38;5;28mprint\u001b[39m(n,N,psi_0)\n\u001b[1;32m---> 12\u001b[0m psi_i \u001b[38;5;241m=\u001b[39m \u001b[43mH_otimes_n\u001b[49m\u001b[43m(\u001b[49m\u001b[43mn\u001b[49m\u001b[43m)\u001b[49m\u001b[43m \u001b[49m\u001b[38;5;241;43m*\u001b[39;49m\u001b[43m \u001b[49m\u001b[43mpsi_0\u001b[49m  \u001b[38;5;66;03m# inicialization\u001b[39;00m\n\u001b[0;32m     13\u001b[0m \u001b[38;5;28mprint\u001b[39m(psi_i)\n\u001b[0;32m     14\u001b[0m \u001b[38;5;66;03m# sqrt(n) iteraciones\u001b[39;00m\n",
      "\u001b[1;31mValueError\u001b[0m: operands could not be broadcast together with shapes (8,2) (4,4) "
     ]
    }
   ],
   "source": [
    "N = 3\n",
    "\n",
    "def f(x):\n",
    "    return x == 2\n",
    "\n",
    "grover(N, f)\n"
   ]
  },
  {
   "cell_type": "code",
   "execution_count": null,
   "metadata": {},
   "outputs": [],
   "source": []
  }
 ],
 "metadata": {
  "kernelspec": {
   "display_name": ".venv",
   "language": "python",
   "name": "python3"
  },
  "language_info": {
   "codemirror_mode": {
    "name": "ipython",
    "version": 3
   },
   "file_extension": ".py",
   "mimetype": "text/x-python",
   "name": "python",
   "nbconvert_exporter": "python",
   "pygments_lexer": "ipython3",
   "version": "3.12.2"
  }
 },
 "nbformat": 4,
 "nbformat_minor": 2
}
